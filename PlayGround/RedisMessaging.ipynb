{
 "cells": [
  {
   "cell_type": "code",
   "execution_count": 2,
   "metadata": {
    "dotnet_interactive": {
     "language": "csharp"
    },
    "polyglot_notebook": {
     "kernelName": "csharp"
    },
    "vscode": {
     "languageId": "polyglot-notebook"
    }
   },
   "outputs": [
    {
     "data": {
      "text/html": [
       "<div><div></div><div></div><div><strong>Installed Packages</strong><ul><li><span>StackExchange.Redis, 2.7.10</span></li></ul></div></div>"
      ]
     },
     "metadata": {},
     "output_type": "display_data"
    }
   ],
   "source": [
    "#r \"nuget: StackExchange.Redis\"\n"
   ]
  },
  {
   "cell_type": "code",
   "execution_count": 3,
   "metadata": {
    "dotnet_interactive": {
     "language": "csharp"
    },
    "polyglot_notebook": {
     "kernelName": "csharp"
    },
    "vscode": {
     "languageId": "polyglot-notebook"
    }
   },
   "outputs": [
    {
     "name": "stdout",
     "output_type": "stream",
     "text": [
      "Received message from channel 'f7e58e26-f9c0-44e7-8954-08dc093dd85d.ch': test\n",
      "Received message from channel 'f7e58e26-f9c0-44e7-8954-08dc093dd85d.ch': test\n",
      "Received message from channel 'f7e58e26-f9c0-44e7-8954-08dc093dd85d.ch': test\n",
      "Received message from channel 'f7e58e26-f9c0-44e7-8954-08dc093dd85d.ch': test\n",
      "Received message from channel 'f7e58e26-f9c0-44e7-8954-08dc093dd85d.ch': test\n",
      "Received message from channel 'f7e58e26-f9c0-44e7-8954-08dc093dd85d.ch': test\n",
      "Received message from channel 'f7e58e26-f9c0-44e7-8954-08dc093dd85d.ch': test\n",
      "Received message from channel 'f7e58e26-f9c0-44e7-8954-08dc093dd85d.ch': test\n",
      "Received message from channel 'f7e58e26-f9c0-44e7-8954-08dc093dd85d.ch': test\n",
      "Received message from channel 'f7e58e26-f9c0-44e7-8954-08dc093dd85d.ch': test\n"
     ]
    }
   ],
   "source": [
    "/* sample server code */\n",
    "\n",
    "using StackExchange.Redis;\n",
    "using System;\n",
    "using System.Threading;\n",
    "\n",
    "var options = ConfigurationOptions.Parse(\"78.109.201.86:6379\"); // host1:port1, host2:port2, ...\n",
    "options.Password = \"1qazxsw2$$\";\n",
    "\n",
    "string redisConnectionString = \"localhost:6379\";\n",
    "// string channelName = \"sampleChannel\";\n",
    "string channelName = \"f7e58e26-f9c0-44e7-8954-08dc093dd85d.ch\";\n",
    "string streamKey = \"sampleStream\";\n",
    "\n",
    "ConnectionMultiplexer redis = await ConnectionMultiplexer.ConnectAsync(options);\n",
    "// ConnectionMultiplexer redis = await ConnectionMultiplexer.ConnectAsync(redisConnectionString);\n",
    "ISubscriber subscriber = redis.GetSubscriber();\n",
    "\n",
    "subscriber.Subscribe(channelName, (channel, message) =>\n",
    "{\n",
    "    Console.WriteLine($\"Received message from channel '{channel}': {message}\");\n",
    "});\n",
    "\n",
    "\n",
    "var st = DateTime.Now;\n",
    "\n",
    "\n",
    "while(DateTime.Now - st < TimeSpan.FromSeconds(10)){\n",
    "    Thread.Sleep(1000);\n",
    "}\n",
    "\n",
    "redis.Dispose();\n"
   ]
  },
  {
   "cell_type": "code",
   "execution_count": 1,
   "metadata": {
    "dotnet_interactive": {
     "language": "csharp"
    },
    "polyglot_notebook": {
     "kernelName": "csharp"
    },
    "vscode": {
     "languageId": "polyglot-notebook"
    }
   },
   "outputs": [
    {
     "ename": "Error",
     "evalue": "(1,7): error CS0246: The type or namespace name 'StackExchange' could not be found (are you missing a using directive or an assembly reference?)\r\n(4,15): error CS0103: The name 'ConfigurationOptions' does not exist in the current context\r\n(12,1): error CS0246: The type or namespace name 'ConnectionMultiplexer' could not be found (are you missing a using directive or an assembly reference?)\r\n(14,1): error CS0246: The type or namespace name 'ISubscriber' could not be found (are you missing a using directive or an assembly reference?)\r\n(12,37): error CS0103: The name 'ConnectionMultiplexer' does not exist in the current context",
     "output_type": "error",
     "traceback": [
      "(1,7): error CS0246: The type or namespace name 'StackExchange' could not be found (are you missing a using directive or an assembly reference?)\r\n",
      "(4,15): error CS0103: The name 'ConfigurationOptions' does not exist in the current context\r\n",
      "(12,1): error CS0246: The type or namespace name 'ConnectionMultiplexer' could not be found (are you missing a using directive or an assembly reference?)\r\n",
      "(14,1): error CS0246: The type or namespace name 'ISubscriber' could not be found (are you missing a using directive or an assembly reference?)\r\n",
      "(12,37): error CS0103: The name 'ConnectionMultiplexer' does not exist in the current context"
     ]
    }
   ],
   "source": [
    "using StackExchange.Redis;\n",
    "using System;\n",
    "\n",
    "var options = ConfigurationOptions.Parse(\"78.109.201.86:6379\"); // host1:port1, host2:port2, ...\n",
    "options.Password = \"1qazxsw2$$\";\n",
    "\n",
    "string redisConnectionString = \"localhost:6379\";\n",
    "// string channelName = \"sampleChannel\";\n",
    "string channelName = \"f7e58e26-f9c0-44e7-8954-08dc093dd85d.ch\";\n",
    "string streamKey = \"sampleStream\";\n",
    "\n",
    "ConnectionMultiplexer redis = await ConnectionMultiplexer.ConnectAsync(options);\n",
    "// ConnectionMultiplexer redis = await ConnectionMultiplexer.ConnectAsync(redisConnectionString);\n",
    "ISubscriber subscriber = redis.GetSubscriber();\n",
    "\n",
    "subscriber.Subscribe(channelName, (channel, message) =>\n",
    "{\n",
    "    Console.WriteLine($\"Received message from channel '{channel}': {message}\");\n",
    "});\n",
    "\n",
    "await subscriber.PublishAsync(channelName, \"Hello from Server 1!\");\n",
    "\n",
    "redis.Dispose();\n"
   ]
  },
  {
   "cell_type": "code",
   "execution_count": 46,
   "metadata": {
    "dotnet_interactive": {
     "language": "csharp"
    },
    "polyglot_notebook": {
     "kernelName": "csharp"
    },
    "vscode": {
     "languageId": "polyglot-notebook"
    }
   },
   "outputs": [
    {
     "name": "stdout",
     "output_type": "stream",
     "text": [
      "Added message to stream 'sampleStream' with ID: 1704116257792-0\n",
      "Added message to stream 'sampleStream' with ID: 1704116257897-0\n",
      "Added message to stream 'sampleStream' with ID: 1704116257964-0\n",
      "Added message to stream 'sampleStream' with ID: 1704116258033-0\n",
      "Added message to stream 'sampleStream' with ID: 1704116258116-0\n",
      "Added message to stream 'sampleStream' with ID: 1704116258186-0\n",
      "Added message to stream 'sampleStream' with ID: 1704116258238-0\n",
      "Added message to stream 'sampleStream' with ID: 1704116258303-0\n",
      "Added message to stream 'sampleStream' with ID: 1704116258358-0\n",
      "Added message to stream 'sampleStream' with ID: 1704116258407-0\n",
      "consumer group already exist 'I THINK' : BUSYGROUP Consumer Group name already exists\n"
     ]
    }
   ],
   "source": [
    "using StackExchange.Redis;\n",
    "using System;\n",
    "\n",
    "var options = ConfigurationOptions.Parse(\"78.109.201.86:6379\"); // host1:port1, host2:port2, ...\n",
    "options.Password = \"1qazxsw2$$\";\n",
    "\n",
    "// string redisConnectionString = \"localhost:6379\";\n",
    "string channelName = \"sampleChannel\";\n",
    "string streamKey = \"sampleStream\";\n",
    "string consumerGroupName = \"sampleGroup\";\n",
    "\n",
    "// ConnectionMultiplexer redis = await ConnectionMultiplexer.ConnectAsync(redisConnectionString);\n",
    "ConnectionMultiplexer redis = await ConnectionMultiplexer.ConnectAsync(options);\n",
    "\n",
    "IDatabase redisDb = redis.GetDatabase();\n",
    "\n",
    "for(var i = 0 ; i < 10 ; i++){\n",
    "var message = new NameValueEntry(\"messageField\", \"Message from Server 1\");\n",
    "\n",
    "var messageId = await redisDb.StreamAddAsync(streamKey, new [] {message});\n",
    "Console.WriteLine($\"Added message to stream '{streamKey}' with ID: {messageId}\");\n",
    "\n",
    "}\n",
    "\n",
    "\n",
    "// Create a consumer group associated with the stream\n",
    "try{\n",
    "    redisDb.StreamCreateConsumerGroup(streamKey, consumerGroupName, StreamPosition.NewMessages);\n",
    "}catch (Exception e){\n",
    "    Console.WriteLine($\"consumer group already exist 'I THINK' : {e.Message}\");\n",
    "}\n",
    "\n",
    "// this is not accurate (always returning 4)\n",
    "// RedisResult result = await redisDb.ExecuteAsync(\"XPENDING\", streamKey, consumerGroupName);\n",
    "// Console.WriteLine($\"Total pending messages: {result}\");\n",
    "\n",
    "// var streamMessages = await redisDb.StreamReadAsync(streamKey , \"0\");\n",
    "// foreach (var message in streamMessages)\n",
    "// {\n",
    "//     Console.WriteLine($\"Received message from stream '{streamKey}': ID:{message.Id} VAL0:{message.Values[0]}\");\n",
    "//     var t = await redisDb.StreamAcknowledgeAsync(streamKey , consumerGroupName, message.Id);\n",
    "// }\n",
    "// // Delete acknowledged messages from the stream\n",
    "// await redisDb.StreamDeleteAsync(streamKey, streamMessages.Select(msg => msg.Id).ToArray());\n",
    "\n",
    "redis.Dispose();\n"
   ]
  },
  {
   "cell_type": "code",
   "execution_count": null,
   "metadata": {
    "dotnet_interactive": {
     "language": "csharp"
    },
    "polyglot_notebook": {
     "kernelName": "csharp"
    },
    "vscode": {
     "languageId": "polyglot-notebook"
    }
   },
   "outputs": [],
   "source": []
  },
  {
   "cell_type": "code",
   "execution_count": null,
   "metadata": {
    "dotnet_interactive": {
     "language": "csharp"
    },
    "polyglot_notebook": {
     "kernelName": "csharp"
    },
    "vscode": {
     "languageId": "polyglot-notebook"
    }
   },
   "outputs": [],
   "source": []
  }
 ],
 "metadata": {
  "kernelspec": {
   "display_name": ".NET (C#)",
   "language": "C#",
   "name": ".net-csharp"
  },
  "language_info": {
   "name": "python"
  },
  "polyglot_notebook": {
   "kernelInfo": {
    "defaultKernelName": "csharp",
    "items": [
     {
      "aliases": [],
      "name": "csharp"
     }
    ]
   }
  }
 },
 "nbformat": 4,
 "nbformat_minor": 2
}
