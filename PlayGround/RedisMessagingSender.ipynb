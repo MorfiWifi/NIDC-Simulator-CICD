{
 "cells": [
  {
   "cell_type": "code",
   "execution_count": 1,
   "metadata": {
    "dotnet_interactive": {
     "language": "csharp"
    },
    "polyglot_notebook": {
     "kernelName": "csharp"
    },
    "vscode": {
     "languageId": "polyglot-notebook"
    }
   },
   "outputs": [
    {
     "data": {
      "text/html": [
       "<div><div></div><div></div><div><strong>Installed Packages</strong><ul><li><span>StackExchange.Redis, 2.7.10</span></li></ul></div></div>"
      ]
     },
     "metadata": {},
     "output_type": "display_data"
    }
   ],
   "source": [
    "#r \"nuget: StackExchange.Redis\"\n"
   ]
  },
  {
   "cell_type": "code",
   "execution_count": 18,
   "metadata": {
    "dotnet_interactive": {
     "language": "csharp"
    },
    "polyglot_notebook": {
     "kernelName": "csharp"
    },
    "vscode": {
     "languageId": "polyglot-notebook"
    }
   },
   "outputs": [],
   "source": [
    "using StackExchange.Redis;\n",
    "using System;\n",
    "using System.Threading;\n",
    "\n",
    "var options = ConfigurationOptions.Parse(\"78.109.201.86:6379\"); // host1:port1, host2:port2, ...\n",
    "options.Password = \"1qazxsw2$$\";\n",
    "\n",
    "string redisConnectionString = \"localhost:6379\";\n",
    "string channelName = \"sampleChannel\"; // simulation ID.ch\n",
    "// string channelName = \"3e37381b-32bd-4684-8953-08dc093dd85d.ch\"; // simulation ID.ch\n",
    "string streamKey = \"sampleStream\"; \n",
    "\n",
    "ConnectionMultiplexer redis = await ConnectionMultiplexer.ConnectAsync(options);\n",
    "// ConnectionMultiplexer redis = await ConnectionMultiplexer.ConnectAsync(redisConnectionString);\n",
    "ISubscriber subscriber = redis.GetSubscriber();\n",
    "await subscriber.PublishAsync(channelName, \"Keylie_connect\"); // call fuction \n",
    "await subscriber.PublishAsync(channelName, \"Hello from Server 2!\");\n",
    "await subscriber.PublishAsync(channelName, \"Hello from Server 3!\");\n",
    "await subscriber.PublishAsync(channelName, \"Hello from Server 4!\");\n",
    "\n",
    "redis.Dispose();\n"
   ]
  },
  {
   "cell_type": "code",
   "execution_count": 3,
   "metadata": {
    "dotnet_interactive": {
     "language": "csharp"
    },
    "polyglot_notebook": {
     "kernelName": "csharp"
    },
    "vscode": {
     "languageId": "polyglot-notebook"
    }
   },
   "outputs": [
    {
     "name": "stdout",
     "output_type": "stream",
     "text": [
      "Received message from channel 'sampleChannel': Hello from Server 1!\r\n"
     ]
    }
   ],
   "source": [
    "using StackExchange.Redis;\n",
    "using System;\n",
    "\n",
    "var options = ConfigurationOptions.Parse(\"78.109.201.86:6379\"); // host1:port1, host2:port2, ...\n",
    "options.Password = \"1qazxsw2$$\";\n",
    "\n",
    "string redisConnectionString = \"localhost:6379\";\n",
    "string channelName = \"sampleChannel\";\n",
    "string streamKey = \"sampleStream\";\n",
    "\n",
    "ConnectionMultiplexer redis = await ConnectionMultiplexer.ConnectAsync(options);\n",
    "// ConnectionMultiplexer redis = await ConnectionMultiplexer.ConnectAsync(redisConnectionString);\n",
    "ISubscriber subscriber = redis.GetSubscriber();\n",
    "\n",
    "subscriber.Subscribe(channelName, (channel, message) =>\n",
    "{\n",
    "    Console.WriteLine($\"Received message from channel '{channel}': {message}\");\n",
    "});\n",
    "\n",
    "await subscriber.PublishAsync(channelName, \"Hello from Server 1!\");\n",
    "\n",
    "redis.Dispose();\n"
   ]
  },
  {
   "cell_type": "code",
   "execution_count": 14,
   "metadata": {
    "dotnet_interactive": {
     "language": "csharp"
    },
    "polyglot_notebook": {
     "kernelName": "csharp"
    },
    "vscode": {
     "languageId": "polyglot-notebook"
    }
   },
   "outputs": [
    {
     "name": "stdout",
     "output_type": "stream",
     "text": [
      "Added message to stream 'sampleStream' with ID: 1704110598072-0\n",
      "consumer group already exist 'I THINK' : BUSYGROUP Consumer Group name already exists\n",
      "Total pending messages: 4 element(s)\n",
      "Received message from stream 'sampleStream': ID:1704110587263-0 VAL0:messageField: Message from Server 1\n",
      "Received message from stream 'sampleStream': ID:1704110588289-0 VAL0:messageField: Message from Server 1\n",
      "Received message from stream 'sampleStream': ID:1704110589577-0 VAL0:messageField: Message from Server 1\n",
      "Received message from stream 'sampleStream': ID:1704110596155-0 VAL0:messageField: Message from Server 1\n",
      "Received message from stream 'sampleStream': ID:1704110597178-0 VAL0:messageField: Message from Server 1\n",
      "Received message from stream 'sampleStream': ID:1704110598072-0 VAL0:messageField: Message from Server 1\n"
     ]
    }
   ],
   "source": [
    "using StackExchange.Redis;\n",
    "using System;\n",
    "\n",
    "// var options = ConfigurationOptions.Parse(\"78.109.201.86:6379\"); // host1:port1, host2:port2, ...\n",
    "// options.Password = \"1qazxsw2$$\";\n",
    "\n",
    "string redisConnectionString = \"localhost:6379\";\n",
    "string channelName = \"sampleChannel\";\n",
    "string streamKey = \"sampleStream\";\n",
    "string consumerGroupName = \"sampleGroup\";\n",
    "\n",
    "ConnectionMultiplexer redis = await ConnectionMultiplexer.ConnectAsync(redisConnectionString);\n",
    "\n",
    "IDatabase redisDb = redis.GetDatabase();\n",
    "\n",
    "var message = new NameValueEntry(\"messageField\", \"Message from Server 1\");\n",
    "\n",
    "var messageId = await redisDb.StreamAddAsync(streamKey, new [] {message});\n",
    "Console.WriteLine($\"Added message to stream '{streamKey}' with ID: {messageId}\");\n",
    "\n",
    "// Create a consumer group associated with the stream\n",
    "try{\n",
    "    redisDb.StreamCreateConsumerGroup(streamKey, consumerGroupName, StreamPosition.NewMessages);\n",
    "}catch (Exception e){\n",
    "    Console.WriteLine($\"consumer group already exist 'I THINK' : {e.Message}\");\n",
    "}\n",
    "\n",
    "// this is not accurate (always returning 4)\n",
    "RedisResult result = await redisDb.ExecuteAsync(\"XPENDING\", streamKey, consumerGroupName);\n",
    "Console.WriteLine($\"Total pending messages: {result}\");\n",
    "\n",
    "var streamMessages = await redisDb.StreamReadAsync(streamKey , \"0\");\n",
    "foreach (var message in streamMessages)\n",
    "{\n",
    "    Console.WriteLine($\"Received message from stream '{streamKey}': ID:{message.Id} VAL0:{message.Values[0]}\");\n",
    "    var t = await redisDb.StreamAcknowledgeAsync(streamKey , consumerGroupName, message.Id);\n",
    "}\n",
    "// Delete acknowledged messages from the stream\n",
    "await redisDb.StreamDeleteAsync(streamKey, streamMessages.Select(msg => msg.Id).ToArray());\n",
    "\n",
    "redis.Dispose();\n"
   ]
  },
  {
   "cell_type": "code",
   "execution_count": null,
   "metadata": {
    "dotnet_interactive": {
     "language": "csharp"
    },
    "polyglot_notebook": {
     "kernelName": "csharp"
    },
    "vscode": {
     "languageId": "polyglot-notebook"
    }
   },
   "outputs": [],
   "source": []
  },
  {
   "cell_type": "code",
   "execution_count": null,
   "metadata": {
    "dotnet_interactive": {
     "language": "csharp"
    },
    "polyglot_notebook": {
     "kernelName": "csharp"
    },
    "vscode": {
     "languageId": "polyglot-notebook"
    }
   },
   "outputs": [],
   "source": []
  }
 ],
 "metadata": {
  "kernelspec": {
   "display_name": ".NET (C#)",
   "language": "C#",
   "name": ".net-csharp"
  },
  "language_info": {
   "name": "python"
  },
  "polyglot_notebook": {
   "kernelInfo": {
    "defaultKernelName": "csharp",
    "items": [
     {
      "aliases": [],
      "name": "csharp"
     }
    ]
   }
  }
 },
 "nbformat": 4,
 "nbformat_minor": 2
}
