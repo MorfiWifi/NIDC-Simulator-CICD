{
 "cells": [
  {
   "cell_type": "code",
   "execution_count": 3,
   "metadata": {
    "dotnet_interactive": {
     "language": "csharp"
    },
    "polyglot_notebook": {
     "kernelName": "csharp"
    },
    "vscode": {
     "languageId": "polyglot-notebook"
    }
   },
   "outputs": [],
   "source": [
    "using System.Timers;"
   ]
  },
  {
   "cell_type": "code",
   "execution_count": 28,
   "metadata": {
    "dotnet_interactive": {
     "language": "csharp"
    },
    "polyglot_notebook": {
     "kernelName": "csharp"
    },
    "vscode": {
     "languageId": "polyglot-notebook"
    }
   },
   "outputs": [],
   "source": [
    "public static class DeBounce {\n",
    "\n",
    "    private static Dictionary<string , Action> dictActions = new ();\n",
    "    private static Dictionary<string , Timer> dictTimers = new ();\n",
    "\n",
    "\n",
    "public static void CallAction(string Identifier , Action ac , int delay = 100){\n",
    "    dictActions[Identifier] = ac;\n",
    "    if ( !dictTimers.ContainsKey(Identifier)){\n",
    "        var timer = new Timer(delay);\n",
    "\n",
    "            timer.Elapsed += (_ , _) => {\n",
    "                ac.Invoke();\n",
    "                // detroy timer\n",
    "                timer.Dispose();\n",
    "                timer = null;\n",
    "\n",
    "                if ( dictTimers.ContainsKey(Identifier))\n",
    "                    dictTimers.Remove(Identifier);\n",
    "\n",
    "                //rece condition! cousion\n",
    "                if (dictActions.ContainsKey(Identifier))\n",
    "                    dictActions.Remove(Identifier);\n",
    "            };\n",
    "\n",
    "            timer.Start();\n",
    "        dictTimers[Identifier] = timer;\n",
    "    }\n",
    "}\n",
    "\n",
    "}"
   ]
  },
  {
   "cell_type": "code",
   "execution_count": 8,
   "metadata": {
    "dotnet_interactive": {
     "language": "csharp"
    },
    "polyglot_notebook": {
     "kernelName": "csharp"
    },
    "vscode": {
     "languageId": "polyglot-notebook"
    }
   },
   "outputs": [],
   "source": [
    "public static class Numplus{\n",
    "    public static int NUM = 0;\n",
    "\n",
    "    public static int GetNum(){\n",
    "        NUM++;\n",
    "        return NUM;\n",
    "    }\n",
    "}"
   ]
  },
  {
   "cell_type": "code",
   "execution_count": 31,
   "metadata": {
    "dotnet_interactive": {
     "language": "csharp"
    },
    "polyglot_notebook": {
     "kernelName": "csharp"
    },
    "vscode": {
     "languageId": "polyglot-notebook"
    }
   },
   "outputs": [
    {
     "name": "stdout",
     "output_type": "stream",
     "text": [
      "32\n",
      "33\n",
      "34\n",
      "35\n",
      "36\n",
      "37\n",
      "38\n"
     ]
    }
   ],
   "source": [
    "\n",
    "for(var i = 0; i < 50 ; i ++){\n",
    "    DeBounce.CallAction(\"identity1\" ,() => {Console.WriteLine(Numplus.GetNum());});\n",
    "    Task.WaitAll(Task.Delay(10));\n",
    "}\n",
    "\n",
    "// Debouncer.RunMeThis(() => {Console.WriteLine(Numplus.GetNum());});\n",
    "// Console.WriteLine(Numplus.GetNum());\n",
    "// Console.WriteLine(Numplus.GetNum());\n",
    "Task.WaitAll(Task.Delay(1000));"
   ]
  }
 ],
 "metadata": {
  "language_info": {
   "name": "python"
  },
  "orig_nbformat": 4
 },
 "nbformat": 4,
 "nbformat_minor": 2
}
